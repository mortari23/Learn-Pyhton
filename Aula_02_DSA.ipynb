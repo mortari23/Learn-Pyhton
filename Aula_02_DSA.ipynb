{
  "nbformat": 4,
  "nbformat_minor": 0,
  "metadata": {
    "colab": {
      "provenance": [],
      "authorship_tag": "ABX9TyMjEtGBXgcnePv1UzOZFPx4",
      "include_colab_link": true
    },
    "kernelspec": {
      "name": "python3",
      "display_name": "Python 3"
    },
    "language_info": {
      "name": "python"
    }
  },
  "cells": [
    {
      "cell_type": "markdown",
      "metadata": {
        "id": "view-in-github",
        "colab_type": "text"
      },
      "source": [
        "<a href=\"https://colab.research.google.com/github/mortari23/Learn-Pyhton/blob/main/Aula_02_DSA.ipynb\" target=\"_parent\"><img src=\"https://colab.research.google.com/assets/colab-badge.svg\" alt=\"Open In Colab\"/></a>"
      ]
    },
    {
      "cell_type": "code",
      "execution_count": null,
      "metadata": {
        "id": "FRCx6Tk3lJ70"
      },
      "outputs": [],
      "source": [
        "print('Bem vindo ao calculador da Área de um paralelogramo')\n",
        "base = float(input('Insira o comprimento da base:'))\n",
        "altura = float(input('Insira a altura:'))\n",
        "area = base * altura\n",
        "print('A área do paralelogramo é de', area)"
      ]
    },
    {
      "cell_type": "code",
      "source": [
        "print('Bem vindo a calculadora Simples')\n",
        "n1 = float(input('Insira o primeiro número:'))\n",
        "n2 = float(input('Insira o segundo número:'))\n",
        "operador = input('Insira o operador (+, -, *, /):')\n",
        "print('Resultado é')\n",
        "if operador == '+':\n",
        "    print(n1 + n2)\n",
        "elif operador == '-':\n",
        "    print(n1 -  n2)\n",
        "elif operador == '*':\n",
        "    print(n1 * n2)\n",
        "elif operador == '/':\n",
        "    print(n1 / n2)\n",
        "else:\n",
        "     print('Operador inválido')"
      ],
      "metadata": {
        "id": "85PG9Xuvq1KH"
      },
      "execution_count": null,
      "outputs": []
    },
    {
      "cell_type": "code",
      "source": [
        "lista = [42, 7, 19, 3, 88, 25, 1, 67, 12, 33]\n",
        "def bubble_sort(arr):\n",
        "  n=len(arr)\n",
        "  #Para cada elemento de i do array\n",
        "  for i in range(n):\n",
        "\n",
        "    #PARA CADA ELEMENTO J DO array\n",
        "    for j in range(0, n-i-1):\n",
        "\n",
        "      #SE O ELEMENTO I FOR MAIOR QUE O ELEMENTO J\n",
        "      if arr[j] > arr[j+1]:\n",
        "\n",
        "        #TROQUE\n",
        "        arr[j], arr[j+1] = arr[j+1], arr[j]\n",
        "  return arr\n",
        "print(bubble_sort(lista))\n"
      ],
      "metadata": {
        "id": "xCq08Tj60SnI"
      },
      "execution_count": null,
      "outputs": []
    },
    {
      "cell_type": "code",
      "source": [
        "import  math # importa a biblioteca para usar a raiz quadrada\n",
        "\n",
        "print('Bem vindo ao Calculador de Bhaskara')\n",
        "\n",
        "#Entrada dos coeficientes\n",
        "n1=int(input('Insira o valor de a :'))\n",
        "n2=int(input('Insira o valor de b :'))\n",
        "n3=int(input('Insira o valor de c :'))\n",
        "\n",
        "#Calculo do delta\n",
        "delta = n2**2 - 4*n1*n3\n",
        "\n",
        "#Verificação se existem raizes reais\n",
        "if delta < 0:\n",
        "  print('A equação não possui raizes reais')\n",
        "else :\n",
        "    raiz_delta = math.sqrt(delta)\n",
        "    x1 = (-n2 + raiz_delta) / (2*n1)\n",
        "    x2 = (-n2 - raiz_delta) / (2*n1)\n",
        "    print('As raizes da equação são', x1, 'e', x2)"
      ],
      "metadata": {
        "id": "wPaomqMw-Ldo"
      },
      "execution_count": null,
      "outputs": []
    }
  ]
}